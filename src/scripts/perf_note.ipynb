{
 "cells": [
  {
   "cell_type": "code",
   "execution_count": 2,
   "metadata": {},
   "outputs": [],
   "source": [
    "using BenchmarkTools\n",
    "using Distributions\n",
    "using BioSequences\n",
    "\n",
    "using SeededAlignment\n"
   ]
  },
  {
   "cell_type": "markdown",
   "metadata": {},
   "source": [
    "initialize package, benchmark and plots above\n",
    "\n",
    "Type stability check\n",
    "1. nw_align\n",
    "2. Seeded_chain_align\n",
    "3. msa_ref_alignment\n",
    "\n",
    "Validating with benchmark tools\n",
    "0. concatenate LongDNA \n",
    "1. nw_align affine \n",
    "2. seed_chain_align "
   ]
  },
  {
   "cell_type": "code",
   "execution_count": null,
   "metadata": {},
   "outputs": [
    {
     "data": {
      "text/plain": [
       "BenchmarkTools.Trial: 10000 samples with 723 evaluations per sample.\n",
       " Range \u001b[90m(\u001b[39m\u001b[36m\u001b[1mmin\u001b[22m\u001b[39m … \u001b[35mmax\u001b[39m\u001b[90m):  \u001b[39m\u001b[36m\u001b[1m182.849 ns\u001b[22m\u001b[39m … \u001b[35m  7.661 μs\u001b[39m  \u001b[90m┊\u001b[39m GC \u001b[90m(\u001b[39mmin … max\u001b[90m): \u001b[39m0.00% … 96.36%\n",
       " Time  \u001b[90m(\u001b[39m\u001b[34m\u001b[1mmedian\u001b[22m\u001b[39m\u001b[90m):     \u001b[39m\u001b[34m\u001b[1m189.212 ns               \u001b[22m\u001b[39m\u001b[90m┊\u001b[39m GC \u001b[90m(\u001b[39mmedian\u001b[90m):    \u001b[39m0.00%\n",
       " Time  \u001b[90m(\u001b[39m\u001b[32m\u001b[1mmean\u001b[22m\u001b[39m ± \u001b[32mσ\u001b[39m\u001b[90m):   \u001b[39m\u001b[32m\u001b[1m227.237 ns\u001b[22m\u001b[39m ± \u001b[32m163.419 ns\u001b[39m  \u001b[90m┊\u001b[39m GC \u001b[90m(\u001b[39mmean ± σ\u001b[90m):  \u001b[39m4.05% ±  7.12%\n",
       "\n",
       "  \u001b[39m█\u001b[34m▅\u001b[39m\u001b[39m▄\u001b[39m▂\u001b[39m▂\u001b[32m▁\u001b[39m\u001b[39m▃\u001b[39m▃\u001b[39m▁\u001b[39m▁\u001b[39m▁\u001b[39m \u001b[39m \u001b[39m \u001b[39m \u001b[39m \u001b[39m \u001b[39m \u001b[39m \u001b[39m \u001b[39m▁\u001b[39m \u001b[39m \u001b[39m \u001b[39m \u001b[39m▁\u001b[39m▁\u001b[39m \u001b[39m \u001b[39m \u001b[39m \u001b[39m \u001b[39m \u001b[39m \u001b[39m \u001b[39m \u001b[39m \u001b[39m \u001b[39m \u001b[39m \u001b[39m \u001b[39m \u001b[39m \u001b[39m \u001b[39m \u001b[39m \u001b[39m \u001b[39m \u001b[39m \u001b[39m \u001b[39m \u001b[39m \u001b[39m \u001b[39m \u001b[39m \u001b[39m \u001b[39m \u001b[39m \u001b[39m \u001b[39m \u001b[39m \u001b[39m \u001b[39m▁\n",
       "  \u001b[39m█\u001b[34m█\u001b[39m\u001b[39m█\u001b[39m█\u001b[39m█\u001b[32m█\u001b[39m\u001b[39m█\u001b[39m█\u001b[39m█\u001b[39m█\u001b[39m█\u001b[39m█\u001b[39m█\u001b[39m█\u001b[39m█\u001b[39m▇\u001b[39m▇\u001b[39m█\u001b[39m▇\u001b[39m█\u001b[39m█\u001b[39m█\u001b[39m█\u001b[39m█\u001b[39m█\u001b[39m█\u001b[39m█\u001b[39m█\u001b[39m▇\u001b[39m█\u001b[39m▆\u001b[39m▇\u001b[39m▇\u001b[39m▆\u001b[39m▆\u001b[39m▆\u001b[39m▆\u001b[39m▆\u001b[39m▅\u001b[39m▆\u001b[39m▅\u001b[39m▅\u001b[39m▃\u001b[39m▄\u001b[39m▄\u001b[39m▅\u001b[39m▁\u001b[39m▅\u001b[39m▃\u001b[39m▁\u001b[39m▃\u001b[39m▃\u001b[39m▃\u001b[39m▃\u001b[39m▃\u001b[39m▃\u001b[39m▁\u001b[39m▃\u001b[39m▁\u001b[39m▅\u001b[39m▅\u001b[39m \u001b[39m█\n",
       "  183 ns\u001b[90m        \u001b[39m\u001b[90mHistogram: \u001b[39m\u001b[90m\u001b[1mlog(\u001b[22m\u001b[39m\u001b[90mfrequency\u001b[39m\u001b[90m\u001b[1m)\u001b[22m\u001b[39m\u001b[90m by time\u001b[39m        721 ns \u001b[0m\u001b[1m<\u001b[22m\n",
       "\n",
       " Memory estimate\u001b[90m: \u001b[39m\u001b[33m528 bytes\u001b[39m, allocs estimate\u001b[90m: \u001b[39m\u001b[33m2\u001b[39m."
      ]
     },
     "metadata": {},
     "output_type": "display_data"
    },
    {
     "data": {
      "text/plain": [
       "BenchmarkTools.Trial: 10000 samples with 759 evaluations per sample.\n",
       " Range \u001b[90m(\u001b[39m\u001b[36m\u001b[1mmin\u001b[22m\u001b[39m … \u001b[35mmax\u001b[39m\u001b[90m):  \u001b[39m\u001b[36m\u001b[1m165.876 ns\u001b[22m\u001b[39m … \u001b[35m  7.097 μs\u001b[39m  \u001b[90m┊\u001b[39m GC \u001b[90m(\u001b[39mmin … max\u001b[90m): \u001b[39m0.00% … 0.00%\n",
       " Time  \u001b[90m(\u001b[39m\u001b[34m\u001b[1mmedian\u001b[22m\u001b[39m\u001b[90m):     \u001b[39m\u001b[34m\u001b[1m169.565 ns               \u001b[22m\u001b[39m\u001b[90m┊\u001b[39m GC \u001b[90m(\u001b[39mmedian\u001b[90m):    \u001b[39m0.00%\n",
       " Time  \u001b[90m(\u001b[39m\u001b[32m\u001b[1mmean\u001b[22m\u001b[39m ± \u001b[32mσ\u001b[39m\u001b[90m):   \u001b[39m\u001b[32m\u001b[1m204.505 ns\u001b[22m\u001b[39m ± \u001b[32m146.849 ns\u001b[39m  \u001b[90m┊\u001b[39m GC \u001b[90m(\u001b[39mmean ± σ\u001b[90m):  \u001b[39m4.14% ± 7.49%\n",
       "\n",
       "  \u001b[34m█\u001b[39m\u001b[39m▄\u001b[39m▄\u001b[32m▄\u001b[39m\u001b[39m▂\u001b[39m▁\u001b[39m▁\u001b[39m▁\u001b[39m▁\u001b[39m▁\u001b[39m▁\u001b[39m▁\u001b[39m▁\u001b[39m▁\u001b[39m▁\u001b[39m \u001b[39m▁\u001b[39m \u001b[39m \u001b[39m \u001b[39m \u001b[39m \u001b[39m \u001b[39m \u001b[39m \u001b[39m \u001b[39m \u001b[39m \u001b[39m \u001b[39m \u001b[39m \u001b[39m \u001b[39m \u001b[39m \u001b[39m \u001b[39m \u001b[39m \u001b[39m \u001b[39m \u001b[39m \u001b[39m \u001b[39m \u001b[39m \u001b[39m \u001b[39m \u001b[39m \u001b[39m \u001b[39m \u001b[39m \u001b[39m \u001b[39m \u001b[39m \u001b[39m \u001b[39m \u001b[39m \u001b[39m \u001b[39m \u001b[39m \u001b[39m \u001b[39m \u001b[39m \u001b[39m \u001b[39m▁\n",
       "  \u001b[34m█\u001b[39m\u001b[39m█\u001b[39m█\u001b[32m█\u001b[39m\u001b[39m█\u001b[39m█\u001b[39m█\u001b[39m█\u001b[39m█\u001b[39m█\u001b[39m█\u001b[39m█\u001b[39m█\u001b[39m█\u001b[39m█\u001b[39m█\u001b[39m█\u001b[39m█\u001b[39m▇\u001b[39m▆\u001b[39m▆\u001b[39m▆\u001b[39m▁\u001b[39m▅\u001b[39m▅\u001b[39m▄\u001b[39m▄\u001b[39m▃\u001b[39m▄\u001b[39m▅\u001b[39m▃\u001b[39m▄\u001b[39m▄\u001b[39m▃\u001b[39m▁\u001b[39m▄\u001b[39m▃\u001b[39m▄\u001b[39m▅\u001b[39m▄\u001b[39m▃\u001b[39m▁\u001b[39m▄\u001b[39m▁\u001b[39m▄\u001b[39m▃\u001b[39m▁\u001b[39m▁\u001b[39m▁\u001b[39m▄\u001b[39m▁\u001b[39m▁\u001b[39m▃\u001b[39m▁\u001b[39m▁\u001b[39m▁\u001b[39m▁\u001b[39m▃\u001b[39m▁\u001b[39m▁\u001b[39m▄\u001b[39m \u001b[39m█\n",
       "  166 ns\u001b[90m        \u001b[39m\u001b[90mHistogram: \u001b[39m\u001b[90m\u001b[1mlog(\u001b[22m\u001b[39m\u001b[90mfrequency\u001b[39m\u001b[90m\u001b[1m)\u001b[22m\u001b[39m\u001b[90m by time\u001b[39m        985 ns \u001b[0m\u001b[1m<\u001b[22m\n",
       "\n",
       " Memory estimate\u001b[90m: \u001b[39m\u001b[33m528 bytes\u001b[39m, allocs estimate\u001b[90m: \u001b[39m\u001b[33m2\u001b[39m."
      ]
     },
     "metadata": {},
     "output_type": "display_data"
    },
    {
     "data": {
      "text/plain": [
       "BenchmarkTools.Trial: 10000 samples with 763 evaluations per sample.\n",
       " Range \u001b[90m(\u001b[39m\u001b[36m\u001b[1mmin\u001b[22m\u001b[39m … \u001b[35mmax\u001b[39m\u001b[90m):  \u001b[39m\u001b[36m\u001b[1m164.744 ns\u001b[22m\u001b[39m … \u001b[35m  2.143 μs\u001b[39m  \u001b[90m┊\u001b[39m GC \u001b[90m(\u001b[39mmin … max\u001b[90m): \u001b[39m0.00% … 0.00%\n",
       " Time  \u001b[90m(\u001b[39m\u001b[34m\u001b[1mmedian\u001b[22m\u001b[39m\u001b[90m):     \u001b[39m\u001b[34m\u001b[1m168.152 ns               \u001b[22m\u001b[39m\u001b[90m┊\u001b[39m GC \u001b[90m(\u001b[39mmedian\u001b[90m):    \u001b[39m0.00%\n",
       " Time  \u001b[90m(\u001b[39m\u001b[32m\u001b[1mmean\u001b[22m\u001b[39m ± \u001b[32mσ\u001b[39m\u001b[90m):   \u001b[39m\u001b[32m\u001b[1m193.809 ns\u001b[22m\u001b[39m ± \u001b[32m107.426 ns\u001b[39m  \u001b[90m┊\u001b[39m GC \u001b[90m(\u001b[39mmean ± σ\u001b[90m):  \u001b[39m4.32% ± 7.51%\n",
       "\n",
       "  \u001b[34m█\u001b[39m\u001b[39m▅\u001b[39m▄\u001b[39m▂\u001b[32m▂\u001b[39m\u001b[39m▄\u001b[39m▂\u001b[39m▁\u001b[39m▁\u001b[39m \u001b[39m \u001b[39m \u001b[39m \u001b[39m \u001b[39m \u001b[39m \u001b[39m \u001b[39m \u001b[39m \u001b[39m \u001b[39m \u001b[39m \u001b[39m \u001b[39m \u001b[39m \u001b[39m \u001b[39m \u001b[39m \u001b[39m \u001b[39m \u001b[39m \u001b[39m \u001b[39m \u001b[39m \u001b[39m \u001b[39m \u001b[39m \u001b[39m \u001b[39m \u001b[39m \u001b[39m \u001b[39m \u001b[39m \u001b[39m \u001b[39m \u001b[39m \u001b[39m \u001b[39m \u001b[39m \u001b[39m \u001b[39m \u001b[39m \u001b[39m \u001b[39m \u001b[39m \u001b[39m \u001b[39m \u001b[39m \u001b[39m \u001b[39m \u001b[39m \u001b[39m \u001b[39m▁\n",
       "  \u001b[34m█\u001b[39m\u001b[39m█\u001b[39m█\u001b[39m█\u001b[32m█\u001b[39m\u001b[39m█\u001b[39m█\u001b[39m█\u001b[39m█\u001b[39m█\u001b[39m█\u001b[39m█\u001b[39m█\u001b[39m█\u001b[39m▇\u001b[39m▇\u001b[39m▇\u001b[39m█\u001b[39m█\u001b[39m█\u001b[39m▇\u001b[39m▇\u001b[39m▇\u001b[39m▆\u001b[39m▇\u001b[39m▆\u001b[39m▆\u001b[39m▆\u001b[39m▅\u001b[39m▄\u001b[39m▆\u001b[39m▆\u001b[39m█\u001b[39m▇\u001b[39m▇\u001b[39m▆\u001b[39m▅\u001b[39m▄\u001b[39m▄\u001b[39m▄\u001b[39m▅\u001b[39m▅\u001b[39m▅\u001b[39m▃\u001b[39m▄\u001b[39m▅\u001b[39m▁\u001b[39m▄\u001b[39m▃\u001b[39m▃\u001b[39m▄\u001b[39m▁\u001b[39m▃\u001b[39m▄\u001b[39m▄\u001b[39m▁\u001b[39m▄\u001b[39m▁\u001b[39m▁\u001b[39m▁\u001b[39m▃\u001b[39m \u001b[39m█\n",
       "  165 ns\u001b[90m        \u001b[39m\u001b[90mHistogram: \u001b[39m\u001b[90m\u001b[1mlog(\u001b[22m\u001b[39m\u001b[90mfrequency\u001b[39m\u001b[90m\u001b[1m)\u001b[22m\u001b[39m\u001b[90m by time\u001b[39m        585 ns \u001b[0m\u001b[1m<\u001b[22m\n",
       "\n",
       " Memory estimate\u001b[90m: \u001b[39m\u001b[33m528 bytes\u001b[39m, allocs estimate\u001b[90m: \u001b[39m\u001b[33m2\u001b[39m."
      ]
     },
     "metadata": {},
     "output_type": "display_data"
    }
   ],
   "source": [
    "# Benchmarking for concatenation of LongDNA to confirm linear (YES it is)...\n",
    "n = 400\n",
    "A = randseq(DNAAlphabet{4}(), SamplerUniform(dna\"ACGT\"), n)\n",
    "B = randseq(DNAAlphabet{4}(), SamplerUniform(dna\"ACGT\"), n)\n",
    "\n",
    "display(@benchmark A*B)\n",
    "display(@benchmark $A*$B)\n",
    "display(@benchmark $(Ref(A))[] * $(Ref(B))[])"
   ]
  },
  {
   "cell_type": "code",
   "execution_count": 3,
   "metadata": {},
   "outputs": [
    {
     "data": {
      "text/plain": [
       "scoreScheme(0.0, 0.3, 0.1, true, true, 21)"
      ]
     },
     "metadata": {},
     "output_type": "display_data"
    }
   ],
   "source": [
    "# type  stabiltiy\n",
    "using BioSequences\n",
    "\n",
    "A = LongDNA{4}(\"AAA\")\n",
    "B = LongDNA{4}(\"AAA\")\n",
    "moveset = pairwise_noisy_moveset()\n",
    "score_scheme = std_codon_scoring()"
   ]
  },
  {
   "cell_type": "code",
   "execution_count": null,
   "metadata": {},
   "outputs": [
    {
     "name": "stdout",
     "output_type": "stream",
     "text": [
      "MethodInstance for SeededAlignment.nw_align(::LongSequence{DNAAlphabet{4}}, ::LongSequence{DNAAlphabet{4}}, ::MoveSet, ::scoreScheme)\n",
      "  from nw_align(\u001b[90mA\u001b[39m::\u001b[1mLongSequence\u001b[22m\u001b[0m{DNAAlphabet{4}}, \u001b[90mB\u001b[39m::\u001b[1mLongSequence\u001b[22m\u001b[0m{DNAAlphabet{4}}, \u001b[90mmoveset\u001b[39m::\u001b[1mMoveSet\u001b[22m, \u001b[90mscoreScheme\u001b[39m::\u001b[1mscoreScheme\u001b[22m)\u001b[90m @\u001b[39m \u001b[90mSeededAlignment\u001b[39m \u001b[90m\\\\wsl.localhost\\ubuntu\\home\\willo\\work\\KI\\SeededAlignment.jl\\src\\seq_alignment\\\u001b[39m\u001b[90m\u001b[4mneedleman_wunsch.jl:10\u001b[24m\u001b[39m\n",
      "Arguments\n",
      "  #self#\u001b[36m::Core.Const(SeededAlignment.nw_align)\u001b[39m\n",
      "  A\u001b[36m::LongSequence{DNAAlphabet{4}}\u001b[39m\n",
      "  B\u001b[36m::LongSequence{DNAAlphabet{4}}\u001b[39m\n",
      "  moveset\u001b[36m::MoveSet\u001b[39m\n",
      "  scoreScheme\u001b[36m::scoreScheme\u001b[39m\n",
      "Locals\n",
      "  @_6\u001b[36m::Int64\u001b[39m\n",
      "  @_7\u001b[36m::Int64\u001b[39m\n",
      "  kmerlength\u001b[36m::Int64\u001b[39m\n",
      "  edge_ext_end\u001b[36m::Bool\u001b[39m\n",
      "  edge_ext_begin\u001b[36m::Bool\u001b[39m\n",
      "  extension_score\u001b[36m::Float64\u001b[39m\n",
      "  mismatch_score\u001b[36m::Float64\u001b[39m\n",
      "  match_score\u001b[36m::Float64\u001b[39m\n",
      "  vgap_moves\u001b[36m::Vector{Move}\u001b[39m\n",
      "  hgap_moves\u001b[36m::Vector{Move}\u001b[39m\n",
      "  match_moves\u001b[36m::Vector{Move}\u001b[39m\n",
      "Body\u001b[36m::Tuple{LongSequence{DNAAlphabet{4}}, LongSequence{DNAAlphabet{4}}, Float64}\u001b[39m\n",
      "\u001b[90m1 ─\u001b[39m %1  = SeededAlignment.get_all_moves(moveset)\u001b[36m::Tuple{Vector{Move}, Vector{Move}, Vector{Move}}\u001b[39m\n",
      "\u001b[90m│  \u001b[39m %2  = Base.indexed_iterate(%1, 1)\u001b[36m::Core.PartialStruct(Tuple{Vector{Move}, Int64}, Any[Vector{Move}, Core.Const(2)])\u001b[39m\n",
      "\u001b[90m│  \u001b[39m       (match_moves = Core.getfield(%2, 1))\n",
      "\u001b[90m│  \u001b[39m       (@_7 = Core.getfield(%2, 2))\n",
      "\u001b[90m│  \u001b[39m %5  = Base.indexed_iterate(%1, 2, @_7::Core.Const(2))\u001b[36m::Core.PartialStruct(Tuple{Vector{Move}, Int64}, Any[Vector{Move}, Core.Const(3)])\u001b[39m\n",
      "\u001b[90m│  \u001b[39m       (hgap_moves = Core.getfield(%5, 1))\n",
      "\u001b[90m│  \u001b[39m       (@_7 = Core.getfield(%5, 2))\n",
      "\u001b[90m│  \u001b[39m %8  = Base.indexed_iterate(%1, 3, @_7::Core.Const(3))\u001b[36m::Core.PartialStruct(Tuple{Vector{Move}, Int64}, Any[Vector{Move}, Core.Const(4)])\u001b[39m\n",
      "\u001b[90m│  \u001b[39m       (vgap_moves = Core.getfield(%8, 1))\n",
      "\u001b[90m│  \u001b[39m %10 = SeededAlignment.get_all_params(scoreScheme)\u001b[36m::Tuple{Float64, Float64, Float64, Bool, Bool, Int64}\u001b[39m\n",
      "\u001b[90m│  \u001b[39m %11 = Base.indexed_iterate(%10, 1)\u001b[36m::Core.PartialStruct(Tuple{Float64, Int64}, Any[Float64, Core.Const(2)])\u001b[39m\n",
      "\u001b[90m│  \u001b[39m       (match_score = Core.getfield(%11, 1))\n",
      "\u001b[90m│  \u001b[39m       (@_6 = Core.getfield(%11, 2))\n",
      "\u001b[90m│  \u001b[39m %14 = Base.indexed_iterate(%10, 2, @_6::Core.Const(2))\u001b[36m::Core.PartialStruct(Tuple{Float64, Int64}, Any[Float64, Core.Const(3)])\u001b[39m\n",
      "\u001b[90m│  \u001b[39m       (mismatch_score = Core.getfield(%14, 1))\n",
      "\u001b[90m│  \u001b[39m       (@_6 = Core.getfield(%14, 2))\n",
      "\u001b[90m│  \u001b[39m %17 = Base.indexed_iterate(%10, 3, @_6::Core.Const(3))\u001b[36m::Core.PartialStruct(Tuple{Float64, Int64}, Any[Float64, Core.Const(4)])\u001b[39m\n",
      "\u001b[90m│  \u001b[39m       (extension_score = Core.getfield(%17, 1))\n",
      "\u001b[90m│  \u001b[39m       (@_6 = Core.getfield(%17, 2))\n",
      "\u001b[90m│  \u001b[39m %20 = Base.indexed_iterate(%10, 4, @_6::Core.Const(4))\u001b[36m::Core.PartialStruct(Tuple{Bool, Int64}, Any[Bool, Core.Const(5)])\u001b[39m\n",
      "\u001b[90m│  \u001b[39m       (edge_ext_begin = Core.getfield(%20, 1))\n",
      "\u001b[90m│  \u001b[39m       (@_6 = Core.getfield(%20, 2))\n",
      "\u001b[90m│  \u001b[39m %23 = Base.indexed_iterate(%10, 5, @_6::Core.Const(5))\u001b[36m::Core.PartialStruct(Tuple{Bool, Int64}, Any[Bool, Core.Const(6)])\u001b[39m\n",
      "\u001b[90m│  \u001b[39m       (edge_ext_end = Core.getfield(%23, 1))\n",
      "\u001b[90m│  \u001b[39m       (@_6 = Core.getfield(%23, 2))\n",
      "\u001b[90m│  \u001b[39m %26 = Base.indexed_iterate(%10, 6, @_6::Core.Const(6))\u001b[36m::Core.PartialStruct(Tuple{Int64, Int64}, Any[Int64, Core.Const(7)])\u001b[39m\n",
      "\u001b[90m│  \u001b[39m       (kmerlength = Core.getfield(%26, 1))\n",
      "\u001b[90m│  \u001b[39m %28 = SeededAlignment.nw_align(A, B, match_score, mismatch_score, match_moves, vgap_moves, hgap_moves, extension_score, edge_ext_begin, edge_ext_end)\u001b[36m::Tuple{LongSequence{DNAAlphabet{4}}, LongSequence{DNAAlphabet{4}}, Float64}\u001b[39m\n",
      "\u001b[90m└──\u001b[39m       return %28\n",
      "\n"
     ]
    },
    {
     "data": {
      "text/plain": [
       "nothing"
      ]
     },
     "metadata": {},
     "output_type": "display_data"
    }
   ],
   "source": [
    "# nw_align\n",
    "display(@code_warntype nw_align(A,B, moveset,score_scheme)) # out wrapper"
   ]
  },
  {
   "cell_type": "code",
   "execution_count": 6,
   "metadata": {},
   "outputs": [
    {
     "name": "stdout",
     "output_type": "stream",
     "text": [
      "MethodInstance for SeededAlignment.seed_chain_align(::LongSequence{DNAAlphabet{4}}, ::LongSequence{DNAAlphabet{4}}, ::MoveSet, ::scoreScheme)\n",
      "  from seed_chain_align(\u001b[90mA\u001b[39m::\u001b[1mLongSequence\u001b[22m\u001b[0m{DNAAlphabet{4}}, \u001b[90mB\u001b[39m::\u001b[1mLongSequence\u001b[22m\u001b[0m{DNAAlphabet{4}}, \u001b[90mmoveset\u001b[39m::\u001b[1mMoveSet\u001b[22m, \u001b[90mscoreScheme\u001b[39m::\u001b[1mscoreScheme\u001b[22m)\u001b[90m @\u001b[39m \u001b[90mSeededAlignment\u001b[39m \u001b[90m\\\\wsl.localhost\\ubuntu\\home\\willo\\work\\KI\\SeededAlignment.jl\\src\\seq_alignment\\\u001b[39m\u001b[90m\u001b[4mseed_chain_align.jl:24\u001b[24m\u001b[39m\n",
      "Arguments\n",
      "  #self#\u001b[36m::Core.Const(SeededAlignment.seed_chain_align)\u001b[39m\n",
      "  A\u001b[36m::LongSequence{DNAAlphabet{4}}\u001b[39m\n",
      "  B\u001b[36m::LongSequence{DNAAlphabet{4}}\u001b[39m\n",
      "  moveset\u001b[36m::MoveSet\u001b[39m\n",
      "  scoreScheme\u001b[36m::scoreScheme\u001b[39m\n",
      "Locals\n",
      "  @_6\u001b[36m::Int64\u001b[39m\n",
      "  @_7\u001b[36m::Int64\u001b[39m\n",
      "  kmerlength\u001b[36m::Int64\u001b[39m\n",
      "  edge_ext_end\u001b[36m::Bool\u001b[39m\n",
      "  edge_ext_begin\u001b[36m::Bool\u001b[39m\n",
      "  extending_score\u001b[36m::Float64\u001b[39m\n",
      "  mismatch_score\u001b[36m::Float64\u001b[39m\n",
      "  match_score\u001b[36m::Float64\u001b[39m\n",
      "  vgap_moves\u001b[36m::Vector{Move}\u001b[39m\n",
      "  hgap_moves\u001b[36m::Vector{Move}\u001b[39m\n",
      "  match_moves\u001b[36m::Vector{Move}\u001b[39m\n",
      "Body\u001b[36m::Vector{LongSequence{DNAAlphabet{4}}}\u001b[39m\n",
      "\u001b[90m1 ─\u001b[39m %1  = SeededAlignment.get_all_moves(moveset)\u001b[36m::Tuple{Vector{Move}, Vector{Move}, Vector{Move}}\u001b[39m\n",
      "\u001b[90m│  \u001b[39m %2  = Base.indexed_iterate(%1, 1)\u001b[36m::Core.PartialStruct(Tuple{Vector{Move}, Int64}, Any[Vector{Move}, Core.Const(2)])\u001b[39m\n",
      "\u001b[90m│  \u001b[39m       (match_moves = Core.getfield(%2, 1))\n",
      "\u001b[90m│  \u001b[39m       (@_7 = Core.getfield(%2, 2))\n",
      "\u001b[90m│  \u001b[39m %5  = Base.indexed_iterate(%1, 2, @_7::Core.Const(2))\u001b[36m::Core.PartialStruct(Tuple{Vector{Move}, Int64}, Any[Vector{Move}, Core.Const(3)])\u001b[39m\n",
      "\u001b[90m│  \u001b[39m       (hgap_moves = Core.getfield(%5, 1))\n",
      "\u001b[90m│  \u001b[39m       (@_7 = Core.getfield(%5, 2))\n",
      "\u001b[90m│  \u001b[39m %8  = Base.indexed_iterate(%1, 3, @_7::Core.Const(3))\u001b[36m::Core.PartialStruct(Tuple{Vector{Move}, Int64}, Any[Vector{Move}, Core.Const(4)])\u001b[39m\n",
      "\u001b[90m│  \u001b[39m       (vgap_moves = Core.getfield(%8, 1))\n",
      "\u001b[90m│  \u001b[39m %10 = SeededAlignment.get_all_params(scoreScheme)\u001b[36m::Tuple{Float64, Float64, Float64, Bool, Bool, Int64}\u001b[39m\n",
      "\u001b[90m│  \u001b[39m %11 = Base.indexed_iterate(%10, 1)\u001b[36m::Core.PartialStruct(Tuple{Float64, Int64}, Any[Float64, Core.Const(2)])\u001b[39m\n",
      "\u001b[90m│  \u001b[39m       (match_score = Core.getfield(%11, 1))\n",
      "\u001b[90m│  \u001b[39m       (@_6 = Core.getfield(%11, 2))\n",
      "\u001b[90m│  \u001b[39m %14 = Base.indexed_iterate(%10, 2, @_6::Core.Const(2))\u001b[36m::Core.PartialStruct(Tuple{Float64, Int64}, Any[Float64, Core.Const(3)])\u001b[39m\n",
      "\u001b[90m│  \u001b[39m       (mismatch_score = Core.getfield(%14, 1))\n",
      "\u001b[90m│  \u001b[39m       (@_6 = Core.getfield(%14, 2))\n",
      "\u001b[90m│  \u001b[39m %17 = Base.indexed_iterate(%10, 3, @_6::Core.Const(3))\u001b[36m::Core.PartialStruct(Tuple{Float64, Int64}, Any[Float64, Core.Const(4)])\u001b[39m\n",
      "\u001b[90m│  \u001b[39m       (extending_score = Core.getfield(%17, 1))\n",
      "\u001b[90m│  \u001b[39m       (@_6 = Core.getfield(%17, 2))\n",
      "\u001b[90m│  \u001b[39m %20 = Base.indexed_iterate(%10, 4, @_6::Core.Const(4))\u001b[36m::Core.PartialStruct(Tuple{Bool, Int64}, Any[Bool, Core.Const(5)])\u001b[39m\n",
      "\u001b[90m│  \u001b[39m       (edge_ext_begin = Core.getfield(%20, 1))\n",
      "\u001b[90m│  \u001b[39m       (@_6 = Core.getfield(%20, 2))\n",
      "\u001b[90m│  \u001b[39m %23 = Base.indexed_iterate(%10, 5, @_6::Core.Const(5))\u001b[36m::Core.PartialStruct(Tuple{Bool, Int64}, Any[Bool, Core.Const(6)])\u001b[39m\n",
      "\u001b[90m│  \u001b[39m       (edge_ext_end = Core.getfield(%23, 1))\n",
      "\u001b[90m│  \u001b[39m       (@_6 = Core.getfield(%23, 2))\n",
      "\u001b[90m│  \u001b[39m %26 = Base.indexed_iterate(%10, 6, @_6::Core.Const(6))\u001b[36m::Core.PartialStruct(Tuple{Int64, Int64}, Any[Int64, Core.Const(7)])\u001b[39m\n",
      "\u001b[90m│  \u001b[39m       (kmerlength = Core.getfield(%26, 1))\n",
      "\u001b[90m│  \u001b[39m %28 = SeededAlignment.seed_chain_align(A, B, match_score, mismatch_score, match_moves, vgap_moves, hgap_moves, extending_score, kmerlength)\u001b[36m::Vector{LongSequence{DNAAlphabet{4}}}\u001b[39m\n",
      "\u001b[90m└──\u001b[39m       return %28\n",
      "\n"
     ]
    },
    {
     "data": {
      "text/plain": [
       "nothing"
      ]
     },
     "metadata": {},
     "output_type": "display_data"
    }
   ],
   "source": [
    "#seed_chain_align\n",
    "display(@code_warntype seed_chain_align(A,B,moveset,score_scheme))"
   ]
  },
  {
   "cell_type": "code",
   "execution_count": null,
   "metadata": {},
   "outputs": [],
   "source": [
    "# nw_align benchmark\n",
    "using BioSequences\n",
    "\n",
    "n = 1000\n",
    "A = randseq(DNAAlphabet{4}(), SamplerUniform(dna\"ACGT\"), n)\n",
    "B = randseq(DNAAlphabet{4}(), SamplerUniform(dna\"ACGT\"), n)\n",
    "moveset = pairwise_noisy_moveset()\n",
    "score_scheme = std_codon_scoring()\n",
    "\n",
    "@benchmark nw_align(A,B,moveset,score_scheme)\n",
    "\n",
    "n = 2000\n",
    "A = randseq(DNAAlphabet{4}(), SamplerUniform(dna\"ACGT\"), n)\n",
    "B = randseq(DNAAlphabet{4}(), SamplerUniform(dna\"ACGT\"), n)\n",
    "moveset = pairwise_noisy_moveset()\n",
    "score_scheme = std_codon_scoring()\n",
    "\n",
    "@benchmark nw_align(A,B,moveset,score_scheme)"
   ]
  },
  {
   "cell_type": "code",
   "execution_count": null,
   "metadata": {},
   "outputs": [
    {
     "ename": "UndefVarError",
     "evalue": "UndefVarError: `pairwise_noisy_moveset` not defined",
     "output_type": "error",
     "traceback": [
      "UndefVarError: `pairwise_noisy_moveset` not defined\n",
      "\n",
      "Stacktrace:\n",
      " [1] top-level scope\n",
      "   @ \\ubuntu\\home\\willo\\work\\KI\\SeededAlignment.jl\\jl_notebook_cell_df34fa98e69747e1a8f8a730347b8e2f_X10sZmlsZQ==.jl:7"
     ]
    }
   ],
   "source": [
    "# seed_chain_align benchmark\n",
    "using BioSequences\n",
    "\n",
    "n = 1000\n",
    "A = randseq(DNAAlphabet{4}(), SamplerUniform(dna\"ACGT\"), n)\n",
    "B = randseq(DNAAlphabet{4}(), SamplerUniform(dna\"ACGT\"), n)\n",
    "moveset = pairwise_noisy_moveset() \n",
    "score_scheme = std_codon_scoring()\n",
    "\n",
    "@benchmark seed_chain_align(A,B,moveset,score_scheme)\n",
    "\n",
    "n = 2000\n",
    "A = randseq(DNAAlphabet{4}(), SamplerUniform(dna\"ACGT\"), n)\n",
    "B = randseq(DNAAlphabet{4}(), SamplerUniform(dna\"ACGT\"), n)\n",
    "moveset = pairwise_noisy_moveset()\n",
    "score_scheme = std_codon_scoring()\n",
    "\n",
    "@benchmark seed_chain_align(A,B,moveset,score_scheme)\n"
   ]
  }
 ],
 "metadata": {
  "kernelspec": {
   "display_name": "Julia 1.9.4",
   "language": "julia",
   "name": "julia-1.9"
  },
  "language_info": {
   "file_extension": ".jl",
   "mimetype": "application/julia",
   "name": "julia",
   "version": "1.9.4"
  }
 },
 "nbformat": 4,
 "nbformat_minor": 2
}
